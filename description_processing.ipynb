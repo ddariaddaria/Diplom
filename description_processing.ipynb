{
 "cells": [
  {
   "cell_type": "code",
   "execution_count": 8,
   "metadata": {},
   "outputs": [],
   "source": [
    "import pandas as pd\n",
    "import tools as t"
   ]
  },
  {
   "attachments": {},
   "cell_type": "markdown",
   "metadata": {},
   "source": [
    "Предобработка тектов вакансий"
   ]
  },
  {
   "attachments": {},
   "cell_type": "markdown",
   "metadata": {},
   "source": [
    "Добавить сюда ID вакансий и key_skills"
   ]
  },
  {
   "cell_type": "code",
   "execution_count": 9,
   "metadata": {},
   "outputs": [],
   "source": [
    "df_descr = pd.DataFrame(pd.read_json('deduplicated.json')[['id', 'description', 'key_skills']])"
   ]
  },
  {
   "attachments": {},
   "cell_type": "markdown",
   "metadata": {},
   "source": [
    "Удаление нерелевантных символов"
   ]
  },
  {
   "cell_type": "code",
   "execution_count": 10,
   "metadata": {},
   "outputs": [],
   "source": [
    "not_to_split = ['a/b', 'ci/cd', 'pl/sql', 'pl/pg', 'tcp/ip', 'ui/ux', 'ux/ui', 'а/б', 'а/в', 'в/из']"
   ]
  },
  {
   "cell_type": "code",
   "execution_count": 11,
   "metadata": {},
   "outputs": [],
   "source": [
    "df_descr['d_clean'] = df_descr['description'].apply(lambda x: t.clean_text(x, not_to_split))\n",
    "df_descr['ks_clean'] = df_descr['key_skills'].apply(lambda x: t.clean_text(str(x), not_to_split))"
   ]
  },
  {
   "attachments": {},
   "cell_type": "markdown",
   "metadata": {},
   "source": [
    "Токенизация"
   ]
  },
  {
   "cell_type": "code",
   "execution_count": 12,
   "metadata": {},
   "outputs": [],
   "source": [
    "from nltk import word_tokenize"
   ]
  },
  {
   "cell_type": "code",
   "execution_count": 13,
   "metadata": {},
   "outputs": [],
   "source": [
    "df_descr['d_tokens'] = df_descr['d_clean'].apply(lambda x: word_tokenize(x, language = 'russian'))\n",
    "df_descr['ks_tokens'] = df_descr['ks_clean'].apply(lambda x: word_tokenize(x, language = 'russian'))"
   ]
  },
  {
   "attachments": {},
   "cell_type": "markdown",
   "metadata": {},
   "source": [
    "Лемматизация (23771 текста обрабатывались 55 мин 29 сек)"
   ]
  },
  {
   "cell_type": "code",
   "execution_count": 14,
   "metadata": {},
   "outputs": [],
   "source": [
    "df_descr['d_lemmatized'] = df_descr['d_tokens'].apply(lambda x: t.lemmatization(x))"
   ]
  },
  {
   "cell_type": "code",
   "execution_count": 15,
   "metadata": {},
   "outputs": [],
   "source": [
    "df_descr['ks_lemmatized'] = df_descr['ks_tokens'].apply(lambda x: t.lemmatization(x))"
   ]
  },
  {
   "cell_type": "code",
   "execution_count": 16,
   "metadata": {},
   "outputs": [
    {
     "data": {
      "text/plain": [
       "3650     ms powerpoint ms excel работа в режиме многоза...\n",
       "2503     грамотная речь работа в команде креативность п...\n",
       "3684     возможное обучение повышение квалификации ms w...\n",
       "3582     анализ рынка маркетинговые исследования swot а...\n",
       "2228     excel подготовка презентаций сбор и анализ инф...\n",
       "                               ...                        \n",
       "86462    ms powerpoint работа с большим объемом информа...\n",
       "88176    яндекс директ яндекс метрика google analytics ...\n",
       "88175    яндекс директ яндекс метрика google analytics ...\n",
       "88177    яндекс директ яндекс метрика google analytics ...\n",
       "88178    яндекс директ яндекс метрика google analytics ...\n",
       "Name: ks_clean, Length: 2445, dtype: object"
      ]
     },
     "execution_count": 16,
     "metadata": {},
     "output_type": "execute_result"
    }
   ],
   "source": [
    "df_descr['ks_clean'][df_descr['ks_clean'].str.contains('excel') == True]"
   ]
  },
  {
   "cell_type": "markdown",
   "metadata": {},
   "source": [
    "Скачивание стоп-слов для русского языка и добавление новых стоп-слов"
   ]
  },
  {
   "cell_type": "code",
   "execution_count": 17,
   "metadata": {},
   "outputs": [],
   "source": [
    "from nltk.corpus import stopwords\n",
    "sw_to_add = ['хорошее', 'знание', 'знать', 'опыт', 'работы', 'организация', 'работать', 'ms', 'условия', 'умение', 'навык']\n",
    "sw_to_add = t.lemmatization(sw_to_add)\n",
    "stopwords = stopwords.words('russian')\n",
    "stopwords = stopwords + sw_to_add"
   ]
  },
  {
   "attachments": {},
   "cell_type": "markdown",
   "metadata": {},
   "source": [
    "Удаление стоп-слов"
   ]
  },
  {
   "cell_type": "code",
   "execution_count": 18,
   "metadata": {},
   "outputs": [],
   "source": [
    "df_descr['d_wo_sw'] = df_descr['d_lemmatized'].apply(lambda x: t.remove_stop_words(x, stopwords))\n",
    "df_descr['ks_wo_sw'] = df_descr['ks_lemmatized'].apply(lambda x: t.remove_stop_words(x, stopwords))"
   ]
  },
  {
   "cell_type": "code",
   "execution_count": 19,
   "metadata": {},
   "outputs": [],
   "source": [
    "df_full = pd.DataFrame(pd.read_json('deduplicated.json'))"
   ]
  },
  {
   "cell_type": "code",
   "execution_count": 20,
   "metadata": {},
   "outputs": [],
   "source": [
    "df_descr['proffesional_roles'] = df_full['proffesional_roles']"
   ]
  },
  {
   "cell_type": "code",
   "execution_count": 21,
   "metadata": {},
   "outputs": [],
   "source": [
    "df_descr.to_json('preprocessed_text.json')"
   ]
  },
  {
   "cell_type": "code",
   "execution_count": 22,
   "metadata": {},
   "outputs": [],
   "source": [
    "# df_descr = pd.read_json('preprocessed_text.json')"
   ]
  },
  {
   "cell_type": "code",
   "execution_count": 23,
   "metadata": {},
   "outputs": [],
   "source": [
    "df_descr['d_full'] = df_descr['d_wo_sw'].apply(lambda x: ' '.join(x))\n",
    "df_descr['ks_full'] = df_descr['ks_wo_sw'].apply(lambda x: ' '.join(x))"
   ]
  },
  {
   "attachments": {},
   "cell_type": "markdown",
   "metadata": {},
   "source": [
    "SKILL COUNT BASED ON DICTIONARY"
   ]
  },
  {
   "attachments": {},
   "cell_type": "markdown",
   "metadata": {},
   "source": [
    "Создаем датафрейм из id, полного описания вакансии и key_skills, добавляем столбец с пустыми списками (для полученных навыков) "
   ]
  },
  {
   "cell_type": "code",
   "execution_count": 24,
   "metadata": {},
   "outputs": [],
   "source": [
    "descr = pd.DataFrame({'id': df_descr['id'], 'd_full': df_descr['d_full'], 'ks_full': df_descr['ks_full']})\n",
    "descr['extracted_skills'] = descr.apply(lambda _: [], axis = 1)"
   ]
  },
  {
   "attachments": {},
   "cell_type": "markdown",
   "metadata": {},
   "source": [
    "Создаем словарь навыков"
   ]
  },
  {
   "cell_type": "code",
   "execution_count": 25,
   "metadata": {},
   "outputs": [],
   "source": [
    "df_dict = pd.read_excel('automatic generated dict.xlsx')['name'].to_list()\n",
    "skills = dict.fromkeys(df_dict, 0)"
   ]
  },
  {
   "attachments": {},
   "cell_type": "markdown",
   "metadata": {},
   "source": [
    "Функция для подсчета частоты встечаемости навыков и вытаскивания навыков в отдельное поле"
   ]
  },
  {
   "cell_type": "code",
   "execution_count": 26,
   "metadata": {},
   "outputs": [],
   "source": [
    "import regex as re"
   ]
  },
  {
   "cell_type": "code",
   "execution_count": 27,
   "metadata": {},
   "outputs": [],
   "source": [
    "def skills_count(id):\n",
    "    ind = descr.index[descr['id'] == id].tolist()[0]\n",
    "    text = descr['d_full'][ind]\n",
    "    ks = descr['ks_full'][ind]\n",
    "    for skill in skills:\n",
    "        if re.search(skill, ks) != None:\n",
    "            descr['extracted_skills'][ind].append(skill)\n",
    "            skills[skill] += 1\n",
    "        elif re.search(skill, text) != None:\n",
    "            descr['extracted_skills'][ind].append(skill)\n",
    "            skills[skill] += 1"
   ]
  },
  {
   "cell_type": "code",
   "execution_count": 28,
   "metadata": {},
   "outputs": [
    {
     "data": {
      "text/plain": [
       "3639     None\n",
       "3640     None\n",
       "3641     None\n",
       "3642     None\n",
       "3643     None\n",
       "         ... \n",
       "87787    None\n",
       "88178    None\n",
       "86084    None\n",
       "86107    None\n",
       "86109    None\n",
       "Name: id, Length: 23771, dtype: object"
      ]
     },
     "execution_count": 28,
     "metadata": {},
     "output_type": "execute_result"
    }
   ],
   "source": [
    "descr['id'].apply(lambda x: skills_count(x))"
   ]
  },
  {
   "attachments": {},
   "cell_type": "markdown",
   "metadata": {},
   "source": [
    "Сортировка"
   ]
  },
  {
   "cell_type": "code",
   "execution_count": 29,
   "metadata": {},
   "outputs": [],
   "source": [
    "skills = dict(sorted(skills.items(), key=lambda item: item[1], reverse=True))"
   ]
  },
  {
   "cell_type": "code",
   "execution_count": 30,
   "metadata": {},
   "outputs": [
    {
     "data": {
      "text/plain": [
       "{'sql': 9605,\n",
       " 'бизнес процесс': 8271,\n",
       " 'excel': 7497,\n",
       " 'erp': 5787,\n",
       " '1с': 5733,\n",
       " 'высокий образование': 5466,\n",
       " 'технический задание': 5413,\n",
       " 'моделирование': 5265,\n",
       " 'bpmn': 5007,\n",
       " 'аналитический мышление': 4339,\n",
       " 'анализ данные': 4060,\n",
       " 'база данные': 4030,\n",
       " 'uml': 3984,\n",
       " 'ответственность': 3855,\n",
       " 'английский язык': 3678,\n",
       " 'бизнес анализ': 3538,\n",
       " 'jira': 3111,\n",
       " 'powerpoint': 3063,\n",
       " 'python': 2970,\n",
       " 'rest': 2853,\n",
       " 'аналитический склад ум': 2805,\n",
       " 'системный анализ': 2778,\n",
       " 'больший объём информация': 2754,\n",
       " 'office': 2695,\n",
       " 'confluence': 2635,\n",
       " 'api': 2576,\n",
       " 'разработка технический задание': 2551,\n",
       " 'технический документация': 2481,\n",
       " 'постановка задача разработчик': 2470,\n",
       " 'проектный документация': 2329,\n",
       " 'моделирование бизнес процесс': 2325,\n",
       " 'описание бизнес процесс': 2285,\n",
       " 'консультирование': 2183,\n",
       " 'agile': 2091,\n",
       " 'многозадачность': 1981,\n",
       " 'внимательность': 1945,\n",
       " 'soap': 1920,\n",
       " 'power bi': 1845,\n",
       " 'статистика': 1819,\n",
       " 'сводный таблица': 1804,\n",
       " 'бизнес аналитика': 1798,\n",
       " 'xml': 1765,\n",
       " 'visio': 1762,\n",
       " 'json': 1710,\n",
       " 'управление проект': 1706,\n",
       " 'crm': 1644,\n",
       " 'прогнозирование': 1528,\n",
       " 'коммуникабельность': 1527,\n",
       " 'системный мышление': 1488,\n",
       " 'анализ требование': 1478,\n",
       " 'подготовка презентация': 1467,\n",
       " '1с erp': 1444,\n",
       " 'git': 1444,\n",
       " '1с предприятие': 1439,\n",
       " 'word': 1398,\n",
       " 'автоматизация процесс': 1387,\n",
       " 'scrum': 1283,\n",
       " 'пользователь пк': 1245,\n",
       " 'субд': 1229,\n",
       " 'бюджетирование': 1194,\n",
       " 'atlassian jira': 1192,\n",
       " 'информационный технология': 1185,\n",
       " 'postgresql': 1179,\n",
       " 'аналитический исследование': 1164,\n",
       " 'оптимизация бизнес процесс': 1163,\n",
       " 'oracle': 1160,\n",
       " 'подготовка отчёт': 1146,\n",
       " 'бухгалтерский учёт': 1115,\n",
       " 'аналитический способность': 1108,\n",
       " 'idef': 1102,\n",
       " 'power point': 1089,\n",
       " 'стрессоустойчивость': 1077,\n",
       " 'обучение развитие': 1061,\n",
       " 'управленческий отчётность': 1059,\n",
       " 'анализ бизнес процесс': 1057,\n",
       " 'анализ рынок': 1054,\n",
       " 'финансовый анализ': 1024,\n",
       " 'режим многозадачность': 998,\n",
       " 'tableau': 985,\n",
       " 'управленческий учёт': 969,\n",
       " 'грамотный речь': 909,\n",
       " 'написание тз': 884,\n",
       " 'гост': 879,\n",
       " 'сбор анализ информация': 878,\n",
       " 'java': 873,\n",
       " 'sap': 859,\n",
       " 'написание технический задание': 851,\n",
       " 'управление требование': 834,\n",
       " 'atlassian confluence': 822,\n",
       " 'визуализация данные': 812,\n",
       " 'грамотный устный письменный речь': 805,\n",
       " '1с бухгалтерия': 804,\n",
       " 'project': 796,\n",
       " 'erp система база 1с': 792,\n",
       " 'epc': 778,\n",
       " 'rest api': 768,\n",
       " 'xsd': 762,\n",
       " 'впр': 755,\n",
       " 'финансовый отчётность': 725,\n",
       " 'разработка проектный документация': 718,\n",
       " 'кадр': 717,\n",
       " 'etl': 715,\n",
       " 'математический статистика': 692,\n",
       " 'принимать решение': 681,\n",
       " 'user story': 680,\n",
       " 'разработка инструкция': 668,\n",
       " 'статистический анализ': 657,\n",
       " 'деловой переписка': 655,\n",
       " 'проведение презентация': 654,\n",
       " 'kafka': 652,\n",
       " 'power query': 649,\n",
       " '1с документооборот': 597,\n",
       " 'vba': 594,\n",
       " 'анализ бизнес показатель': 593,\n",
       " 'грамотность': 589,\n",
       " 'ведение переговоры': 579,\n",
       " 'dwh': 573,\n",
       " 'моделирование процесс': 561,\n",
       " 'мсфо': 559,\n",
       " 'маркетинговый исследование': 558,\n",
       " 'деловой коммуникация': 548,\n",
       " 'уверенный пользователь пк': 522,\n",
       " 'access': 515,\n",
       " 'анализ продажа': 513,\n",
       " 'продвинуть пользователь excel': 495,\n",
       " 'написание инструкция': 481,\n",
       " 'google analytics': 478,\n",
       " 'a/b тест': 477,\n",
       " 'powerbi': 476,\n",
       " 'анализ финансовый показатель': 469,\n",
       " 'clickhouse': 463,\n",
       " 'pandas': 462,\n",
       " 'битрикс': 461,\n",
       " 'hadoop': 458,\n",
       " 'проведение тестирование': 454,\n",
       " 'postman': 453,\n",
       " '1с зарплата управление персонал': 428,\n",
       " '1с управление торговля': 426,\n",
       " 'система аналитик': 425,\n",
       " 'составление тз': 423,\n",
       " 'финансовый моделирование': 422,\n",
       " 'linux': 405,\n",
       " 'outlook': 405,\n",
       " 'ориентация результат': 401,\n",
       " 'системный интеграция': 398,\n",
       " 'исследование рынок': 394,\n",
       " 'электронный документооборот': 388,\n",
       " 'figma': 384,\n",
       " 'экономический анализ': 378,\n",
       " 'маркетинговый анализ': 377,\n",
       " 'swagger': 377,\n",
       " 'aris': 376,\n",
       " 'анализ текущий финансовый показатель': 375,\n",
       " 'json api': 374,\n",
       " 'big data': 369,\n",
       " 'power pivot': 369,\n",
       " 'olap': 369,\n",
       " 'яндекс метрика': 364,\n",
       " 'аналитика продажа': 361,\n",
       " 'деловой общение': 360,\n",
       " '1с ух': 360,\n",
       " '1с комплексный автоматизация': 354,\n",
       " 'html': 354,\n",
       " '1с программирование': 350,\n",
       " 'spark': 344,\n",
       " 'ведение отчётность': 315,\n",
       " 'продвинуть пользователь пк': 308,\n",
       " '1с управление производственный предприятие': 306,\n",
       " 'data analysis': 306,\n",
       " '1с управление предприятие': 283,\n",
       " 'javascript': 278,\n",
       " '1с управление холдинг': 271,\n",
       " 'уверенный пользователь office': 264,\n",
       " 'анализ конкурентный среда': 254,\n",
       " 'опытный пользователь пк': 253,\n",
       " 'анализ риск': 253,\n",
       " 'креативность': 252,\n",
       " 'mysql': 252,\n",
       " 'анализ ценообразование': 249,\n",
       " 'конкурентный аналитика': 244,\n",
       " 'swot анализ': 244,\n",
       " 'инвестиционный анализ': 241,\n",
       " 'google таблица': 240,\n",
       " 'agile project management': 238,\n",
       " 'business studio': 236,\n",
       " 'математический анализ': 231,\n",
       " 'sql server': 229,\n",
       " 'финансовый планирование': 218,\n",
       " 'анализ инвестиционный проект': 207,\n",
       " 'бизнес моделирование': 207,\n",
       " 'бизнес планирование': 207,\n",
       " 'мониторинг рынок': 205,\n",
       " 'анализ ассортиментный линейка': 198,\n",
       " 'abc анализ': 181,\n",
       " 'поиск информация интернет': 179,\n",
       " 'математический моделирование': 178,\n",
       " 'oracle pl/sql': 167,\n",
       " '1с битрикс': 166,\n",
       " 'реинжиниринг бизнес процесс': 162,\n",
       " 'анализ поведение пользователь': 156,\n",
       " 'мониторинг цена': 155,\n",
       " 'google docs': 152,\n",
       " 'стратегический мышление': 147,\n",
       " 'обучение персонал': 147,\n",
       " 'оценка инвестиционный проект': 139,\n",
       " 'план фактный анализ бюджет': 136,\n",
       " 'анализ фхд': 135,\n",
       " 'контроль анализ ценообразование': 131,\n",
       " 'use case analysis': 125,\n",
       " '1с производство': 121,\n",
       " 'финансовый контроль': 118,\n",
       " 'веб аналитика': 111,\n",
       " 'web аналитика': 109,\n",
       " '1с зарплата кадр': 107,\n",
       " 'business intelligence systems': 86,\n",
       " '1с финансы': 77}"
      ]
     },
     "execution_count": 30,
     "metadata": {},
     "output_type": "execute_result"
    }
   ],
   "source": [
    "skills"
   ]
  }
 ],
 "metadata": {
  "kernelspec": {
   "display_name": "Python 3",
   "language": "python",
   "name": "python3"
  },
  "language_info": {
   "codemirror_mode": {
    "name": "ipython",
    "version": 3
   },
   "file_extension": ".py",
   "mimetype": "text/x-python",
   "name": "python",
   "nbconvert_exporter": "python",
   "pygments_lexer": "ipython3",
   "version": "3.9.1"
  },
  "orig_nbformat": 4,
  "vscode": {
   "interpreter": {
    "hash": "8f8cf99212f81ad0c4765861267244807ee1c18364846cdce387b28994a977ba"
   }
  }
 },
 "nbformat": 4,
 "nbformat_minor": 2
}
