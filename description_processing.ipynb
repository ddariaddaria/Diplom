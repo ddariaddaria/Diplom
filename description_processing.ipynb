{
 "cells": [
  {
   "cell_type": "code",
   "execution_count": 29,
   "metadata": {},
   "outputs": [],
   "source": [
    "import pandas as pd\n",
    "import tools as t"
   ]
  },
  {
   "attachments": {},
   "cell_type": "markdown",
   "metadata": {},
   "source": [
    "Предобработка тектов вакансий"
   ]
  },
  {
   "attachments": {},
   "cell_type": "markdown",
   "metadata": {},
   "source": [
    "Добавить сюда ID вакансий и key_skills"
   ]
  },
  {
   "cell_type": "code",
   "execution_count": 73,
   "metadata": {},
   "outputs": [],
   "source": [
    "df_descr = pd.DataFrame(pd.read_json('deduplicated.json')[['id', 'description', 'key_skills']])"
   ]
  },
  {
   "attachments": {},
   "cell_type": "markdown",
   "metadata": {},
   "source": [
    "Удаление нерелевантных символов"
   ]
  },
  {
   "cell_type": "code",
   "execution_count": 76,
   "metadata": {},
   "outputs": [],
   "source": [
    "not_to_split = ['a/b', 'ci/cd', 'pl/sql', 'pl/pg', 'tcp/ip', 'ui/ux', 'ux/ui', 'а/б', 'а/в', 'в/из']"
   ]
  },
  {
   "cell_type": "code",
   "execution_count": 85,
   "metadata": {},
   "outputs": [],
   "source": [
    "df_descr['d_clean'] = df_descr['description'].apply(lambda x: t.clean_text(x, not_to_split))\n",
    "df_descr['ks_clean'] = df_descr['key_skills'].apply(lambda x: t.clean_text(str(x), not_to_split))"
   ]
  },
  {
   "attachments": {},
   "cell_type": "markdown",
   "metadata": {},
   "source": [
    "Токенизация"
   ]
  },
  {
   "cell_type": "code",
   "execution_count": 88,
   "metadata": {},
   "outputs": [],
   "source": [
    "from nltk import word_tokenize"
   ]
  },
  {
   "cell_type": "code",
   "execution_count": 89,
   "metadata": {},
   "outputs": [],
   "source": [
    "df_descr['d_tokens'] = df_descr['d_clean'].apply(lambda x: word_tokenize(x, language = 'russian'))\n",
    "df_descr['ks_tokens'] = df_descr['ks_clean'].apply(lambda x: word_tokenize(x, language = 'russian'))"
   ]
  },
  {
   "attachments": {},
   "cell_type": "markdown",
   "metadata": {},
   "source": [
    "Лемматизация (17814 текста обрабатывались 52 мин 26 сек)"
   ]
  },
  {
   "cell_type": "code",
   "execution_count": 90,
   "metadata": {},
   "outputs": [],
   "source": [
    "df_descr['d_lemmatized'] = df_descr['d_tokens'].apply(lambda x: t.lemmatization(x))"
   ]
  },
  {
   "cell_type": "code",
   "execution_count": 91,
   "metadata": {},
   "outputs": [],
   "source": [
    "df_descr['ks_lemmatized'] = df_descr['ks_tokens'].apply(lambda x: t.lemmatization(x))"
   ]
  },
  {
   "cell_type": "markdown",
   "metadata": {},
   "source": [
    "Скачивание стоп-слов для русского языка и добавление новых стоп-слов"
   ]
  },
  {
   "cell_type": "code",
   "execution_count": 92,
   "metadata": {},
   "outputs": [],
   "source": [
    "from nltk.corpus import stopwords\n",
    "sw_to_add = ['хорошее', 'знание', 'знать', 'опыт', 'работы', 'организация', 'работать', 'ms', 'условия', 'умение', 'навык']\n",
    "sw_to_add = t.lemmatization(sw_to_add)\n",
    "stopwords = stopwords.words('russian')\n",
    "stopwords = stopwords + sw_to_add"
   ]
  },
  {
   "attachments": {},
   "cell_type": "markdown",
   "metadata": {},
   "source": [
    "Удаление стоп-слов"
   ]
  },
  {
   "cell_type": "code",
   "execution_count": 95,
   "metadata": {},
   "outputs": [],
   "source": [
    "df_descr['d_wo_sw'] = df_descr['d_lemmatized'].apply(lambda x: t.remove_stop_words(x, stopwords))\n",
    "df_descr['ks_wo_sw'] = df_descr['ks_lemmatized'].apply(lambda x: t.remove_stop_words(x, stopwords))"
   ]
  },
  {
   "cell_type": "code",
   "execution_count": 97,
   "metadata": {},
   "outputs": [],
   "source": [
    "df_descr.to_json('preprocessed_text.json')"
   ]
  },
  {
   "cell_type": "code",
   "execution_count": 31,
   "metadata": {},
   "outputs": [],
   "source": [
    "df_descr = pd.read_json('preprocessed_text.json')"
   ]
  },
  {
   "cell_type": "code",
   "execution_count": 98,
   "metadata": {},
   "outputs": [],
   "source": [
    "df_descr['d_full'] = df_descr['d_wo_sw'].apply(lambda x: ' '.join(x))\n",
    "df_descr['ks_full'] = df_descr['ks_wo_sw'].apply(lambda x: ' '.join(x))"
   ]
  },
  {
   "attachments": {},
   "cell_type": "markdown",
   "metadata": {},
   "source": [
    "SKILL COUNT BASED ON DICTIONARY"
   ]
  },
  {
   "attachments": {},
   "cell_type": "markdown",
   "metadata": {},
   "source": [
    "Создаем датафрейм из id, полного описания вакансии и key_skills, добавляем столбец с пустыми списками (для полученных навыков) "
   ]
  },
  {
   "cell_type": "code",
   "execution_count": 279,
   "metadata": {},
   "outputs": [],
   "source": [
    "descr = pd.DataFrame({'id': df_descr['id'], 'd_full': df_descr['d_full'], 'ks_full': df_descr['ks_full']})\n",
    "descr['extracted_skills'] = descr.apply(lambda _: [], axis = 1)"
   ]
  },
  {
   "attachments": {},
   "cell_type": "markdown",
   "metadata": {},
   "source": [
    "Создаем словарь навыков"
   ]
  },
  {
   "cell_type": "code",
   "execution_count": 280,
   "metadata": {},
   "outputs": [],
   "source": [
    "df_dict = pd.read_excel('automatic generated dict.xlsx')['name'].to_list()\n",
    "skills = dict.fromkeys(df_dict, 0)"
   ]
  },
  {
   "attachments": {},
   "cell_type": "markdown",
   "metadata": {},
   "source": [
    "Функция для подсчета частоты встечаемости навыков и вытаскивания навыков в отдельное поле"
   ]
  },
  {
   "cell_type": "code",
   "execution_count": 248,
   "metadata": {},
   "outputs": [],
   "source": [
    "import regex as re"
   ]
  },
  {
   "cell_type": "code",
   "execution_count": 249,
   "metadata": {},
   "outputs": [],
   "source": [
    "def skills_count(id):\n",
    "    ind = descr.index[descr['id'] == id].tolist()[0]\n",
    "    text = descr['d_full'][ind]\n",
    "    ks = descr['ks_full'][ind]\n",
    "    for skill in skills:\n",
    "        if re.search(skill, ks) != None:\n",
    "            descr['extracted_skills'][ind].append(skill)\n",
    "            skills[skill] += 1\n",
    "        elif re.search(skill, text) != None:\n",
    "            descr['extracted_skills'][ind].append(skill)\n",
    "            skills[skill] += 1"
   ]
  },
  {
   "cell_type": "code",
   "execution_count": 281,
   "metadata": {},
   "outputs": [
    {
     "data": {
      "text/plain": [
       "0        None\n",
       "1        None\n",
       "2        None\n",
       "3        None\n",
       "4        None\n",
       "         ... \n",
       "50686    None\n",
       "50687    None\n",
       "50688    None\n",
       "50690    None\n",
       "50691    None\n",
       "Name: id, Length: 20578, dtype: object"
      ]
     },
     "execution_count": 281,
     "metadata": {},
     "output_type": "execute_result"
    }
   ],
   "source": [
    "descr['id'].apply(lambda x: skills_count(x))"
   ]
  },
  {
   "attachments": {},
   "cell_type": "markdown",
   "metadata": {},
   "source": [
    "Сортировка"
   ]
  },
  {
   "cell_type": "code",
   "execution_count": 282,
   "metadata": {},
   "outputs": [],
   "source": [
    "skills = dict(sorted(skills.items(), key=lambda item: item[1], reverse=True))"
   ]
  },
  {
   "cell_type": "code",
   "execution_count": 283,
   "metadata": {},
   "outputs": [
    {
     "data": {
      "text/plain": [
       "{'sql': 7473,\n",
       " 'excel': 6723,\n",
       " 'erp': 5163,\n",
       " '1с': 5115,\n",
       " 'высокий образование': 4961,\n",
       " 'технический задание': 4320,\n",
       " 'bpmn': 3836,\n",
       " 'аналитический мышление': 3785,\n",
       " 'ответственность': 3435,\n",
       " 'анализ данные': 3379,\n",
       " 'база данные': 3303,\n",
       " 'английский язык': 3272,\n",
       " 'uml': 3050,\n",
       " 'powerpoint': 2911,\n",
       " 'бизнес анализ': 2874,\n",
       " 'больший объём информация': 2642,\n",
       " 'office': 2496,\n",
       " 'аналитический склад ум': 2453,\n",
       " 'jira': 2397,\n",
       " 'python': 2307,\n",
       " 'rest': 2206,\n",
       " 'системный анализ': 2165,\n",
       " 'разработка технический задание': 2048,\n",
       " 'confluence': 2017,\n",
       " 'api': 2000,\n",
       " 'технический документация': 1988,\n",
       " 'постановка задача разработчик': 1958,\n",
       " 'многозадачность': 1868,\n",
       " 'проектный документация': 1826,\n",
       " 'моделирование бизнес процесс': 1799,\n",
       " 'описание бизнес процесс': 1776,\n",
       " 'внимательность': 1766,\n",
       " 'консультирование': 1761,\n",
       " 'agile': 1631,\n",
       " 'сводный таблица': 1556,\n",
       " 'soap': 1485,\n",
       " 'статистика': 1481,\n",
       " 'управление проект': 1478,\n",
       " 'visio': 1459,\n",
       " 'power bi': 1430,\n",
       " 'word': 1365,\n",
       " 'коммуникабельность': 1362,\n",
       " 'xml': 1356,\n",
       " 'прогнозирование': 1356,\n",
       " 'пользователь пк': 1355,\n",
       " 'json': 1305,\n",
       " 'crm': 1296,\n",
       " '1с предприятие': 1289,\n",
       " 'подготовка презентация': 1277,\n",
       " 'системный мышление': 1216,\n",
       " '1с erp': 1197,\n",
       " 'автоматизация процесс': 1180,\n",
       " 'бюджетирование': 1175,\n",
       " 'анализ требование': 1129,\n",
       " 'git': 1121,\n",
       " 'бухгалтерский учёт': 1117,\n",
       " 'финансовый анализ': 1095,\n",
       " 'аналитический исследование': 1084,\n",
       " 'управленческий отчётность': 1083,\n",
       " 'подготовка отчёт': 1039,\n",
       " 'обучение развитие': 1033,\n",
       " 'аналитический способность': 1033,\n",
       " 'информационный технология': 1022,\n",
       " 'субд': 989,\n",
       " 'scrum': 982,\n",
       " 'анализ рынок': 970,\n",
       " 'режим многозадачность': 966,\n",
       " 'atlassian jira': 952,\n",
       " 'оптимизация бизнес процесс': 936,\n",
       " 'управленческий учёт': 933,\n",
       " 'oracle': 922,\n",
       " 'грамотный речь': 912,\n",
       " 'postgresql': 906,\n",
       " 'idef': 843,\n",
       " 'анализ бизнес процесс': 779,\n",
       " 'tableau': 742,\n",
       " 'гост': 738,\n",
       " 'sap': 734,\n",
       " '1с бухгалтерия': 733,\n",
       " 'сбор анализ информация': 723,\n",
       " 'финансовый отчётность': 706,\n",
       " 'project': 696,\n",
       " 'написание тз': 687,\n",
       " 'java': 686,\n",
       " 'деловой переписка': 677,\n",
       " 'впр': 676,\n",
       " 'atlassian confluence': 667,\n",
       " 'визуализация данные': 657,\n",
       " 'erp система база 1с': 635,\n",
       " 'epc': 607,\n",
       " 'статистический анализ': 604,\n",
       " 'rest api': 593,\n",
       " 'грамотность': 581,\n",
       " 'разработка инструкция': 570,\n",
       " 'проведение презентация': 566,\n",
       " 'экономический анализ': 545,\n",
       " 'ведение переговоры': 542,\n",
       " 'математический статистика': 540,\n",
       " 'etl': 537,\n",
       " 'user story': 525,\n",
       " 'маркетинговый исследование': 524,\n",
       " 'информационный безопасность': 518,\n",
       " 'kafka': 513,\n",
       " 'power query': 510,\n",
       " 'vba': 495,\n",
       " 'анализ продажа': 494,\n",
       " 'деловой коммуникация': 492,\n",
       " '1с документооборот': 487,\n",
       " 'анализ финансовый показатель': 483,\n",
       " 'мсфо': 471,\n",
       " 'анализ бизнес показатель': 460,\n",
       " 'access': 455,\n",
       " 'dwh': 444,\n",
       " 'linux': 420,\n",
       " 'outlook': 414,\n",
       " 'анализ текущий финансовый показатель': 377,\n",
       " '1с управление торговля': 377,\n",
       " 'проведение тестирование': 376,\n",
       " 'битрикс': 375,\n",
       " 'a/b тест': 374,\n",
       " 'финансовый моделирование': 371,\n",
       " 'маркетинговый анализ': 368,\n",
       " 'ориентация результат': 368,\n",
       " '1с зарплата управление персонал': 366,\n",
       " 'clickhouse': 364,\n",
       " 'hadoop': 362,\n",
       " 'деловой общение': 361,\n",
       " 'google analytics': 361,\n",
       " 'электронный документооборот': 348,\n",
       " 'исследование рынок': 342,\n",
       " 'ведение отчётность': 338,\n",
       " 'powerbi': 338,\n",
       " '1с программирование': 301,\n",
       " 'аналитика продажа': 301,\n",
       " 'системный интеграция': 296,\n",
       " 'figma': 295,\n",
       " 'анализ риск': 293,\n",
       " '1с комплексный автоматизация': 291,\n",
       " 'power pivot': 289,\n",
       " 'aris': 285,\n",
       " 'json api': 284,\n",
       " 'опытный пользователь пк': 280,\n",
       " 'яндекс метрика': 280,\n",
       " 'big data': 276,\n",
       " 'html': 274,\n",
       " 'продвинуть пользователь пк': 267,\n",
       " '1с управление производственный предприятие': 266,\n",
       " 'креативность': 253,\n",
       " 'уверенный пользователь office': 247,\n",
       " 'swot анализ': 234,\n",
       " 'анализ ценообразование': 230,\n",
       " 'data analysis': 227,\n",
       " '1с управление предприятие': 223,\n",
       " 'google таблица': 222,\n",
       " 'анализ конкурентный среда': 220,\n",
       " '1с управление холдинг': 218,\n",
       " 'конкурентный аналитика': 214,\n",
       " 'инвестиционный анализ': 212,\n",
       " 'финансовый планирование': 210,\n",
       " 'анализ ассортиментный линейка': 206,\n",
       " 'agile project management': 203,\n",
       " 'поиск информация интернет': 194,\n",
       " 'анализ инвестиционный проект': 194,\n",
       " 'анализ фхд': 185,\n",
       " 'abc анализ': 176,\n",
       " 'математический анализ': 174,\n",
       " 'oracle pl/sql': 143,\n",
       " 'стратегический мышление': 143,\n",
       " 'бизнес моделирование': 139,\n",
       " 'план фактный анализ бюджет': 137,\n",
       " 'финансовый контроль': 136,\n",
       " 'контроль анализ ценообразование': 123,\n",
       " '1с производство': 111,\n",
       " '1с зарплата кадр': 95}"
      ]
     },
     "execution_count": 283,
     "metadata": {},
     "output_type": "execute_result"
    }
   ],
   "source": [
    "skills"
   ]
  }
 ],
 "metadata": {
  "kernelspec": {
   "display_name": "Python 3",
   "language": "python",
   "name": "python3"
  },
  "language_info": {
   "codemirror_mode": {
    "name": "ipython",
    "version": 3
   },
   "file_extension": ".py",
   "mimetype": "text/x-python",
   "name": "python",
   "nbconvert_exporter": "python",
   "pygments_lexer": "ipython3",
   "version": "3.9.1"
  },
  "orig_nbformat": 4,
  "vscode": {
   "interpreter": {
    "hash": "8f8cf99212f81ad0c4765861267244807ee1c18364846cdce387b28994a977ba"
   }
  }
 },
 "nbformat": 4,
 "nbformat_minor": 2
}
