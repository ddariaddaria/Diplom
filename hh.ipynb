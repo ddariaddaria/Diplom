{
 "cells": [
  {
   "cell_type": "code",
   "execution_count": 1,
   "metadata": {},
   "outputs": [],
   "source": [
    "import requests\n",
    "import re\n",
    "import time\n",
    "import json\n",
    "from pprint import pprint\n",
    "import random\n",
    "import pandas as pd\n",
    "import datetime"
   ]
  },
  {
   "attachments": {},
   "cell_type": "markdown",
   "metadata": {},
   "source": [
    "Функция для получения данных"
   ]
  },
  {
   "cell_type": "code",
   "execution_count": 2,
   "metadata": {},
   "outputs": [],
   "source": [
    "proxy = {\n",
    "    'http': 'http://46.47.197.210:3128',\n",
    "    'http': 'http://62.33.207.201:80'\n",
    "}\n",
    "\n",
    "def get_api_data(url, params = '', headers ='', proxy = ''): \n",
    "    r = requests.get(url, params, headers=headers, proxies=proxy)\n",
    "    return r.json()"
   ]
  },
  {
   "attachments": {},
   "cell_type": "markdown",
   "metadata": {},
   "source": [
    "Функция для случайного выбора юзер-агента"
   ]
  },
  {
   "cell_type": "code",
   "execution_count": 3,
   "metadata": {},
   "outputs": [],
   "source": [
    "def choose_user_agent(user_agents):\n",
    "    user_agent = user_agents[random.randrange(len(user_agents))]\n",
    "    headers = {'user-agent': user_agent}\n",
    "    return headers"
   ]
  },
  {
   "attachments": {},
   "cell_type": "markdown",
   "metadata": {},
   "source": [
    "Чтение данных юзерагетов"
   ]
  },
  {
   "cell_type": "code",
   "execution_count": 4,
   "metadata": {},
   "outputs": [],
   "source": [
    "with open(r'C:\\Users\\Lenovo\\Desktop\\Python ML\\python\\diplom\\desktop_user_agent.txt', 'r', encoding='utf-8') as fp:\n",
    "    user_agents = [line.strip() for line in fp.read().split('\\n')]\n"
   ]
  },
  {
   "attachments": {},
   "cell_type": "markdown",
   "metadata": {},
   "source": [
    "Функция для получения данных о вакансиях за день"
   ]
  },
  {
   "cell_type": "code",
   "execution_count": 5,
   "metadata": {},
   "outputs": [],
   "source": [
    "def get_vac_ids(date):\n",
    "    url = r'https://api.hh.ru/vacancies'\n",
    "    all_vac = []\n",
    "    par = {'text': 'аналитик', 'area': 113, 'search_field': 'name', 'date_from': str(date), 'date_to': str(date)}\n",
    "    #data = get_api_data(url, params=par, headers=choose_user_agent(user_agents))\n",
    "    data = get_api_data(url, params=par, headers=choose_user_agent(user_agents))\n",
    "    pages = data['pages']\n",
    "    found = data['found']\n",
    "    for page in range(pages):\n",
    "        par = {'text': 'аналитик', 'area': 113, 'search_field': 'name', 'date_from': str(date), 'date_to': str(date), 'page': page}\n",
    "        data = get_api_data(url, params=par, headers=choose_user_agent(user_agents))\n",
    "        all_vac = all_vac + data['items']\n",
    "    vac_ids = []\n",
    "    for one_vac in all_vac:\n",
    "        vac_ids.append(one_vac['id'])\n",
    "    vac_ids.sort()\n",
    "    return vac_ids"
   ]
  },
  {
   "attachments": {},
   "cell_type": "markdown",
   "metadata": {},
   "source": [
    "Проверка нет ли капчи"
   ]
  },
  {
   "cell_type": "code",
   "execution_count": 53,
   "metadata": {},
   "outputs": [],
   "source": [
    "url = f'https://api.hh.ru/vacancies/74298375'\n",
    "check = get_api_data(url, headers=choose_user_agent(user_agents))\n",
    "#print(check)"
   ]
  },
  {
   "attachments": {},
   "cell_type": "markdown",
   "metadata": {},
   "source": [
    "Получение нужных данных о вакансиях"
   ]
  },
  {
   "cell_type": "code",
   "execution_count": 6,
   "metadata": {},
   "outputs": [],
   "source": [
    "def get_vac_data(vac_ids):\n",
    "    vac_info = []\n",
    "    for one_vac in vac_ids:\n",
    "        url = f'https://api.hh.ru/vacancies/{one_vac}'\n",
    "        vac_descr = get_api_data(url, headers=choose_user_agent(user_agents))\n",
    "        #print(vac_descr)\n",
    "        try:\n",
    "            area = vac_descr['area']['name']\n",
    "            description = re.sub(r'\\<[^>]*\\>', '', vac_descr['description'])\n",
    "            employment = vac_descr['employment']['name'],\n",
    "            experience = vac_descr['experience']['name'],\n",
    "            id = vac_descr['id'],\n",
    "            key_skills = vac_descr['key_skills'],\n",
    "            name = vac_descr['name'],\n",
    "            publication_date = vac_descr['published_at'],\n",
    "            salary = vac_descr['salary'],\n",
    "            schedule = vac_descr['schedule']['name'],\n",
    "            specializations = vac_descr['specializations'],\n",
    "            proffesional_roles= vac_descr['professional_roles']\n",
    "            employer = vac_descr['employer']['name']\n",
    "        except:\n",
    "            print(one_vac, 'ERRROR')\n",
    "            continue\n",
    "        vac_info.append({\n",
    "            'area': area,\n",
    "            'description': description,\n",
    "            'employment': employment,\n",
    "            'experience': experience,\n",
    "            'id': id,\n",
    "            'key_skills': key_skills,\n",
    "            'name': name,\n",
    "            'publication_date': publication_date,\n",
    "            'salary': salary,\n",
    "            'schedule': schedule,\n",
    "            'specializations': specializations,\n",
    "            'proffesional_roles': proffesional_roles,\n",
    "            'employer': employer,\n",
    "            'source': 'hh.ru'\n",
    "        })\n",
    "    return vac_info\n",
    "    \n",
    "    #time.sleep(0.1)\n"
   ]
  },
  {
   "attachments": {},
   "cell_type": "markdown",
   "metadata": {},
   "source": [
    "Функция для дописывания полученные данных за день в файл"
   ]
  },
  {
   "cell_type": "code",
   "execution_count": 7,
   "metadata": {},
   "outputs": [],
   "source": [
    "def add_data_to_file(vac_info):\n",
    "    with open(r'C:\\Users\\Lenovo\\Desktop\\Python ML\\python\\diplom\\hh_data.json', 'r', encoding='utf-8') as fp:\n",
    "        all_vacs = json.load(fp)\n",
    "    all_vacs = all_vacs + vac_info\n",
    "    with open(r'C:\\Users\\Lenovo\\Desktop\\Python ML\\python\\diplom\\hh_data2.json', 'w', encoding='utf-8') as fp:\n",
    "        json.dump(all_vacs, fp, ensure_ascii=False)"
   ]
  },
  {
   "attachments": {},
   "cell_type": "markdown",
   "metadata": {},
   "source": [
    "Функция, чтобы сохранить из json в excel"
   ]
  },
  {
   "cell_type": "code",
   "execution_count": 8,
   "metadata": {},
   "outputs": [],
   "source": [
    "def from_json_to_excel():\n",
    "    with open(r'C:\\Users\\Lenovo\\Desktop\\Python ML\\python\\diplom\\hh_data.json', 'r', encoding='utf-8') as fp:\n",
    "        to_excel = json.load(fp)\n",
    "    df = pd.DataFrame(to_excel)\n",
    "    df.to_excel(r'C:\\Users\\Lenovo\\Desktop\\Python ML\\python\\diplom\\hh_data.xlsx')"
   ]
  },
  {
   "attachments": {},
   "cell_type": "markdown",
   "metadata": {},
   "source": [
    "Функция для добавления навыков в словарь и сохранения в файл"
   ]
  },
  {
   "cell_type": "code",
   "execution_count": 9,
   "metadata": {},
   "outputs": [],
   "source": [
    "def add_skills_to_dict(vac_info, save):\n",
    "    with open(r'C:\\Users\\Lenovo\\Desktop\\Python ML\\python\\diplom\\skills_dict.json', 'r', encoding='utf-8') as fp:\n",
    "        skills_dict = json.load(fp)\n",
    "    for i, vac in enumerate(vac_info):\n",
    "        if len(vac['key_skills'][0]) > 0:\n",
    "            for skill in vac['key_skills'][0]:\n",
    "                if skill['name'].lower() not in skills_dict:\n",
    "                    skills_dict.append(skill['name'].lower())\n",
    "    skills_dict.sort()\n",
    "    if save == True:\n",
    "        with open(r'C:\\Users\\Lenovo\\Desktop\\Python ML\\python\\diplom\\skills_dict.json', 'w', encoding='utf-8') as fp:\n",
    "            json.dump(skills_dict, fp, ensure_ascii=False)\n",
    "    return skills_dict"
   ]
  },
  {
   "cell_type": "code",
   "execution_count": 31,
   "metadata": {},
   "outputs": [],
   "source": [
    "ids = get_vac_ids(datetime.date.today() - datetime.timedelta(1))"
   ]
  },
  {
   "cell_type": "code",
   "execution_count": 33,
   "metadata": {},
   "outputs": [],
   "source": [
    "vac_info = get_vac_data(ids)"
   ]
  },
  {
   "cell_type": "code",
   "execution_count": 38,
   "metadata": {},
   "outputs": [],
   "source": [
    "add_data_to_file(vac_info)"
   ]
  },
  {
   "cell_type": "code",
   "execution_count": 78,
   "metadata": {},
   "outputs": [],
   "source": [
    "from_json_to_excel()"
   ]
  },
  {
   "cell_type": "code",
   "execution_count": 39,
   "metadata": {},
   "outputs": [],
   "source": [
    "with open(r'C:\\Users\\Lenovo\\Desktop\\Python ML\\python\\diplom\\hh_data.json', 'r', encoding='utf-8') as fp:\n",
    "        all_vacs = json.load(fp)"
   ]
  },
  {
   "cell_type": "code",
   "execution_count": 40,
   "metadata": {},
   "outputs": [],
   "source": [
    "skills_dict = add_skills_to_dict(vac_info, True)"
   ]
  },
  {
   "cell_type": "code",
   "execution_count": 41,
   "metadata": {},
   "outputs": [
    {
     "name": "stdout",
     "output_type": "stream",
     "text": [
      "4048\n"
     ]
    }
   ],
   "source": [
    "print(len(skills_dict))"
   ]
  }
 ],
 "metadata": {
  "kernelspec": {
   "display_name": "Python 3",
   "language": "python",
   "name": "python3"
  },
  "language_info": {
   "codemirror_mode": {
    "name": "ipython",
    "version": 3
   },
   "file_extension": ".py",
   "mimetype": "text/x-python",
   "name": "python",
   "nbconvert_exporter": "python",
   "pygments_lexer": "ipython3",
   "version": "3.9.1 (tags/v3.9.1:1e5d33e, Dec  7 2020, 17:08:21) [MSC v.1927 64 bit (AMD64)]"
  },
  "orig_nbformat": 4,
  "vscode": {
   "interpreter": {
    "hash": "8f8cf99212f81ad0c4765861267244807ee1c18364846cdce387b28994a977ba"
   }
  }
 },
 "nbformat": 4,
 "nbformat_minor": 2
}
