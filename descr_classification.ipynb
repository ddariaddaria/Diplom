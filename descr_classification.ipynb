{
 "cells": [
  {
   "cell_type": "code",
   "execution_count": 35,
   "metadata": {},
   "outputs": [],
   "source": [
    "import pandas as pd\n",
    "from sklearn.model_selection import train_test_split"
   ]
  },
  {
   "cell_type": "code",
   "execution_count": 36,
   "metadata": {},
   "outputs": [],
   "source": [
    "df_full = pd.read_json('preprocessed_text.json')"
   ]
  },
  {
   "cell_type": "code",
   "execution_count": 37,
   "metadata": {},
   "outputs": [],
   "source": [
    "df_full['clean_descr'] = df_full['d_wo_sw'].apply(lambda x: ' '.join(x))"
   ]
  },
  {
   "cell_type": "code",
   "execution_count": 38,
   "metadata": {},
   "outputs": [],
   "source": [
    "df = df_full[['id', 'clean_descr', 'proffesional_roles']]"
   ]
  },
  {
   "cell_type": "code",
   "execution_count": 39,
   "metadata": {},
   "outputs": [
    {
     "data": {
      "text/plain": [
       "23771"
      ]
     },
     "execution_count": 39,
     "metadata": {},
     "output_type": "execute_result"
    }
   ],
   "source": [
    "len(df)"
   ]
  },
  {
   "cell_type": "code",
   "execution_count": 40,
   "metadata": {},
   "outputs": [],
   "source": [
    "not_to_delete = ['Системный аналитик' ,'Продуктовый аналитик', 'Финансовый аналитик, инвестиционный аналитик',\n",
    " 'Маркетолог-аналитик', 'Бизнес-аналитик', 'BI-аналитик, аналитик данных', 'Руководитель отдела аналитики', 'Дата-сайентист']"
   ]
  },
  {
   "cell_type": "code",
   "execution_count": 41,
   "metadata": {},
   "outputs": [
    {
     "data": {
      "text/plain": [
       "8546"
      ]
     },
     "execution_count": 41,
     "metadata": {},
     "output_type": "execute_result"
    }
   ],
   "source": [
    "df = df[df['proffesional_roles'].isin(not_to_delete)]\n",
    "len(df)"
   ]
  },
  {
   "cell_type": "code",
   "execution_count": 42,
   "metadata": {},
   "outputs": [
    {
     "data": {
      "text/plain": [
       "7420"
      ]
     },
     "execution_count": 42,
     "metadata": {},
     "output_type": "execute_result"
    }
   ],
   "source": [
    "df = df.drop_duplicates(['clean_descr'])\n",
    "len(df)"
   ]
  },
  {
   "cell_type": "code",
   "execution_count": 43,
   "metadata": {},
   "outputs": [],
   "source": [
    "df.reset_index(drop = True, inplace=True)"
   ]
  },
  {
   "cell_type": "code",
   "execution_count": 44,
   "metadata": {},
   "outputs": [],
   "source": [
    "X = df['clean_descr']\n",
    "y = df['proffesional_roles']"
   ]
  },
  {
   "cell_type": "code",
   "execution_count": 45,
   "metadata": {},
   "outputs": [],
   "source": [
    "# Split into Training and Test sets\n",
    "X_train, X_test, y_train, y_test = train_test_split(X, y, test_size=0.3, random_state=42, stratify=df['proffesional_roles'])"
   ]
  },
  {
   "cell_type": "code",
   "execution_count": 46,
   "metadata": {},
   "outputs": [
    {
     "name": "stdout",
     "output_type": "stream",
     "text": [
      "Total number of descriptions: 7420\n",
      "----------------------------------------\n",
      "Split by proffesional_roles:\n",
      "Системный аналитик                              1984\n",
      "Бизнес-аналитик                                 1906\n",
      "Финансовый аналитик, инвестиционный аналитик    1603\n",
      "BI-аналитик, аналитик данных                     786\n",
      "Маркетолог-аналитик                              499\n",
      "Продуктовый аналитик                             395\n",
      "Руководитель отдела аналитики                    217\n",
      "Дата-сайентист                                    30\n",
      "Name: proffesional_roles, dtype: int64\n",
      "----------------------------------------\n",
      "Number of proffesional_roles: 8\n"
     ]
    }
   ],
   "source": [
    "print('Total number of descriptions: {}'.format(len(df)))\n",
    "print(40*'-')\n",
    "print('Split by proffesional_roles:')\n",
    "print(df[\"proffesional_roles\"].value_counts())\n",
    "print(40*'-')\n",
    "nr_categories = len(df[\"proffesional_roles\"].unique())\n",
    "print(\"Number of proffesional_roles: {n}\".format(n=nr_categories))"
   ]
  },
  {
   "cell_type": "code",
   "execution_count": 47,
   "metadata": {},
   "outputs": [
    {
     "data": {
      "text/plain": [
       "Системный аналитик                              0.700101\n",
       "Бизнес-аналитик                                 0.699895\n",
       "Финансовый аналитик, инвестиционный аналитик    0.699938\n",
       "BI-аналитик, аналитик данных                    0.699746\n",
       "Маркетолог-аналитик                             0.699399\n",
       "Продуктовый аналитик                            0.701266\n",
       "Руководитель отдела аналитики                   0.700461\n",
       "Дата-сайентист                                  0.700000\n",
       "Name: proffesional_roles, dtype: float64"
      ]
     },
     "execution_count": 47,
     "metadata": {},
     "output_type": "execute_result"
    }
   ],
   "source": [
    "y_train.value_counts()/y.value_counts()"
   ]
  },
  {
   "cell_type": "code",
   "execution_count": 48,
   "metadata": {},
   "outputs": [],
   "source": [
    "from sklearn.feature_extraction.text import TfidfVectorizer"
   ]
  },
  {
   "cell_type": "code",
   "execution_count": 49,
   "metadata": {},
   "outputs": [
    {
     "data": {
      "text/html": [
       "<style>#sk-container-id-2 {color: black;background-color: white;}#sk-container-id-2 pre{padding: 0;}#sk-container-id-2 div.sk-toggleable {background-color: white;}#sk-container-id-2 label.sk-toggleable__label {cursor: pointer;display: block;width: 100%;margin-bottom: 0;padding: 0.3em;box-sizing: border-box;text-align: center;}#sk-container-id-2 label.sk-toggleable__label-arrow:before {content: \"▸\";float: left;margin-right: 0.25em;color: #696969;}#sk-container-id-2 label.sk-toggleable__label-arrow:hover:before {color: black;}#sk-container-id-2 div.sk-estimator:hover label.sk-toggleable__label-arrow:before {color: black;}#sk-container-id-2 div.sk-toggleable__content {max-height: 0;max-width: 0;overflow: hidden;text-align: left;background-color: #f0f8ff;}#sk-container-id-2 div.sk-toggleable__content pre {margin: 0.2em;color: black;border-radius: 0.25em;background-color: #f0f8ff;}#sk-container-id-2 input.sk-toggleable__control:checked~div.sk-toggleable__content {max-height: 200px;max-width: 100%;overflow: auto;}#sk-container-id-2 input.sk-toggleable__control:checked~label.sk-toggleable__label-arrow:before {content: \"▾\";}#sk-container-id-2 div.sk-estimator input.sk-toggleable__control:checked~label.sk-toggleable__label {background-color: #d4ebff;}#sk-container-id-2 div.sk-label input.sk-toggleable__control:checked~label.sk-toggleable__label {background-color: #d4ebff;}#sk-container-id-2 input.sk-hidden--visually {border: 0;clip: rect(1px 1px 1px 1px);clip: rect(1px, 1px, 1px, 1px);height: 1px;margin: -1px;overflow: hidden;padding: 0;position: absolute;width: 1px;}#sk-container-id-2 div.sk-estimator {font-family: monospace;background-color: #f0f8ff;border: 1px dotted black;border-radius: 0.25em;box-sizing: border-box;margin-bottom: 0.5em;}#sk-container-id-2 div.sk-estimator:hover {background-color: #d4ebff;}#sk-container-id-2 div.sk-parallel-item::after {content: \"\";width: 100%;border-bottom: 1px solid gray;flex-grow: 1;}#sk-container-id-2 div.sk-label:hover label.sk-toggleable__label {background-color: #d4ebff;}#sk-container-id-2 div.sk-serial::before {content: \"\";position: absolute;border-left: 1px solid gray;box-sizing: border-box;top: 0;bottom: 0;left: 50%;z-index: 0;}#sk-container-id-2 div.sk-serial {display: flex;flex-direction: column;align-items: center;background-color: white;padding-right: 0.2em;padding-left: 0.2em;position: relative;}#sk-container-id-2 div.sk-item {position: relative;z-index: 1;}#sk-container-id-2 div.sk-parallel {display: flex;align-items: stretch;justify-content: center;background-color: white;position: relative;}#sk-container-id-2 div.sk-item::before, #sk-container-id-2 div.sk-parallel-item::before {content: \"\";position: absolute;border-left: 1px solid gray;box-sizing: border-box;top: 0;bottom: 0;left: 50%;z-index: -1;}#sk-container-id-2 div.sk-parallel-item {display: flex;flex-direction: column;z-index: 1;position: relative;background-color: white;}#sk-container-id-2 div.sk-parallel-item:first-child::after {align-self: flex-end;width: 50%;}#sk-container-id-2 div.sk-parallel-item:last-child::after {align-self: flex-start;width: 50%;}#sk-container-id-2 div.sk-parallel-item:only-child::after {width: 0;}#sk-container-id-2 div.sk-dashed-wrapped {border: 1px dashed gray;margin: 0 0.4em 0.5em 0.4em;box-sizing: border-box;padding-bottom: 0.4em;background-color: white;}#sk-container-id-2 div.sk-label label {font-family: monospace;font-weight: bold;display: inline-block;line-height: 1.2em;}#sk-container-id-2 div.sk-label-container {text-align: center;}#sk-container-id-2 div.sk-container {/* jupyter's `normalize.less` sets `[hidden] { display: none; }` but bootstrap.min.css set `[hidden] { display: none !important; }` so we also need the `!important` here to be able to override the default hidden behavior on the sphinx rendered scikit-learn.org. See: https://github.com/scikit-learn/scikit-learn/issues/21755 */display: inline-block !important;position: relative;}#sk-container-id-2 div.sk-text-repr-fallback {display: none;}</style><div id=\"sk-container-id-2\" class=\"sk-top-container\"><div class=\"sk-text-repr-fallback\"><pre>TfidfVectorizer(max_features=15000, ngram_range=(1, 2))</pre><b>In a Jupyter environment, please rerun this cell to show the HTML representation or trust the notebook. <br />On GitHub, the HTML representation is unable to render, please try loading this page with nbviewer.org.</b></div><div class=\"sk-container\" hidden><div class=\"sk-item\"><div class=\"sk-estimator sk-toggleable\"><input class=\"sk-toggleable__control sk-hidden--visually\" id=\"sk-estimator-id-2\" type=\"checkbox\" checked><label for=\"sk-estimator-id-2\" class=\"sk-toggleable__label sk-toggleable__label-arrow\">TfidfVectorizer</label><div class=\"sk-toggleable__content\"><pre>TfidfVectorizer(max_features=15000, ngram_range=(1, 2))</pre></div></div></div></div></div>"
      ],
      "text/plain": [
       "TfidfVectorizer(max_features=15000, ngram_range=(1, 2))"
      ]
     },
     "execution_count": 49,
     "metadata": {},
     "output_type": "execute_result"
    }
   ],
   "source": [
    "corpus = X_train\n",
    "# Initizalize the vectorizer with max nr words and ngrams (1: single words, 2: two words in a row)\n",
    "vectorizer_tfidf = TfidfVectorizer(max_features=15000, ngram_range=(1,2))\n",
    "# Fit the vectorizer to the training data\n",
    "vectorizer_tfidf.fit(corpus)\n",
    "TfidfVectorizer(max_features=15000, ngram_range=(1, 2))"
   ]
  },
  {
   "cell_type": "code",
   "execution_count": 50,
   "metadata": {},
   "outputs": [],
   "source": [
    "from datetime import datetime\n",
    "from sklearn.linear_model import LogisticRegression, SGDClassifier\n",
    "from sklearn.pipeline import Pipeline\n",
    "from sklearn.naive_bayes import MultinomialNB\n",
    "import numpy as np\n",
    "from sklearn.neighbors import KNeighborsClassifier"
   ]
  },
  {
   "cell_type": "code",
   "execution_count": 51,
   "metadata": {},
   "outputs": [],
   "source": [
    "#classifier_tfidf = KNeighborsClassifier(n_neighbors=15)\n",
    "classifier_tfidf = LogisticRegression()\n",
    "#classifier_tfidf = MultinomialNB()\n",
    "# classifier_tfidf = SGDClassifier(loss='hinge', penalty='l2', alpha=1e-3, random_state=42, max_iter=5, tol=None)\n",
    "model_tfidf = Pipeline([(\"vectorizer\", vectorizer_tfidf), (\"classifier\", classifier_tfidf)])\n",
    "\n",
    "start_time = datetime.now()\n",
    "model_tfidf.fit(X_train, y_train)\n",
    "end_time = datetime.now()\n",
    "\n",
    "training_time_tfidf = (end_time - start_time).total_seconds()"
   ]
  },
  {
   "cell_type": "code",
   "execution_count": 52,
   "metadata": {},
   "outputs": [],
   "source": [
    "from sklearn.metrics import accuracy_score"
   ]
  },
  {
   "cell_type": "code",
   "execution_count": 53,
   "metadata": {},
   "outputs": [
    {
     "name": "stdout",
     "output_type": "stream",
     "text": [
      "Accuracy Training data: 88.4%\n",
      "Accuracy Test data: 77.9%\n",
      "Training time: 15.0s\n"
     ]
    }
   ],
   "source": [
    "predicted_train_tfidf = model_tfidf.predict(X_train)\n",
    "accuracy_train_tfidf = accuracy_score(y_train, predicted_train_tfidf)\n",
    "print('Accuracy Training data: {:.1%}'.format(accuracy_train_tfidf))\n",
    "\n",
    "predicted_test_tfidf = model_tfidf.predict(X_test)\n",
    "accuracy_test_tfidf = accuracy_score(y_test, predicted_test_tfidf)\n",
    "accuracy_tfidf = accuracy_test_tfidf\n",
    "print('Accuracy Test data: {:.1%}'.format(accuracy_test_tfidf))\n",
    "\n",
    "print('Training time: {:.1f}s'.format(training_time_tfidf))"
   ]
  },
  {
   "cell_type": "code",
   "execution_count": 54,
   "metadata": {},
   "outputs": [
    {
     "name": "stdout",
     "output_type": "stream",
     "text": [
      "Classes of the model:  ['BI-аналитик, аналитик данных' 'Бизнес-аналитик' 'Дата-сайентист'\n",
      " 'Маркетолог-аналитик' 'Продуктовый аналитик'\n",
      " 'Руководитель отдела аналитики' 'Системный аналитик'\n",
      " 'Финансовый аналитик, инвестиционный аналитик']\n",
      "--------------------------------------------------------------------------------\n",
      "Shape of the coefficients of the model (categories x vocabulary size):  (8, 15000)\n",
      "--------------------------------------------------------------------------------\n",
      "BI-аналитик, аналитик данных: дашбордовый, dwh, power bi, power, аналитика данные, python, data, sql, bi, данные, \n",
      "--------------------------------------------------------------------------------\n",
      "Бизнес-аналитик: роль бизнес, бизнес системный, требование, описание, искать бизнес, бизнес аналитик, бизнес процесс, процесс, бизнес аналитика, бизнес, \n",
      "--------------------------------------------------------------------------------\n",
      "Дата-сайентист: качество данные, качество, модель машинный, обучение, данные, python, ml, модель, машинный, машинный обучение, \n",
      "--------------------------------------------------------------------------------\n",
      "Маркетолог-аналитик: продвижение, маркетинговый исследование, исследование, реклама, рынок, конкурент, рекламный, маркетолог, маркетинг, маркетинговый, \n",
      "--------------------------------------------------------------------------------\n",
      "Продуктовый аналитик: товар, эксперимент, тест, аналитик, гипотеза, продуктовый аналитик, продуктовый аналитика, метрика, продукт, продуктовый, \n",
      "--------------------------------------------------------------------------------\n",
      "Руководитель отдела аналитики: подразделение, руководитель отдел, команда, отдел аналитик, руководитель, команда аналитик, управление команда, отдел, управление, аналитик, \n",
      "--------------------------------------------------------------------------------\n",
      "Системный аналитик: системный аналитик, разработка, технический, разработчик, требование, проектирование, архитектура, система, системный аналитика, системный, \n",
      "--------------------------------------------------------------------------------\n",
      "Финансовый аналитик, инвестиционный аналитик: excel, финансовый аналитика, финансовый модель, сделка, кредитный, управленческий, бюджет, экономический, инвестиционный, финансовый, \n",
      "--------------------------------------------------------------------------------\n"
     ]
    }
   ],
   "source": [
    "print('Classes of the model: ',classifier_tfidf.classes_)\n",
    "print(80*'-')\n",
    "print('Shape of the coefficients of the model (categories x vocabulary size): ',classifier_tfidf.coef_.shape)\n",
    "print(80*'-')\n",
    "NN = 10\n",
    "# Get the 10 (here: NN, which you can adjust yourself) ids of the words with highest weights per category\n",
    "top_words = np.argsort(classifier_tfidf.coef_,axis=1)[:,-NN:]\n",
    "\n",
    "# Get the vocabulary of the model (mapping of words to ids):\n",
    "voc = vectorizer_tfidf.vocabulary_\n",
    "# Get the inverse vocabulary to map the ids of the words to the words:\n",
    "inv_voc = {v: k for k, v in voc.items()}\n",
    "\n",
    "# Get for each category (=class) the top ten words\n",
    "for n, w in enumerate(classifier_tfidf.classes_):\n",
    "    t = w + ': '\n",
    "    for i in range(NN):\n",
    "        t += inv_voc[top_words[n,i]]\n",
    "        if i!=NN:\n",
    "            t+=', '\n",
    "    print(t)\n",
    "    print(80*'-')"
   ]
  },
  {
   "cell_type": "code",
   "execution_count": 55,
   "metadata": {},
   "outputs": [],
   "source": [
    "df2 = df_full[['clean_descr', 'proffesional_roles']]\n",
    "df2 = df2.drop_duplicates(['clean_descr'])\n",
    "df2 = df2[df2['proffesional_roles'].isin(['Аналитик'])]"
   ]
  },
  {
   "cell_type": "code",
   "execution_count": 56,
   "metadata": {},
   "outputs": [],
   "source": [
    "predicted_train_tfidf = model_tfidf.predict(df2['clean_descr'])\n",
    "df2.reset_index(drop=True, inplace = True)"
   ]
  },
  {
   "cell_type": "code",
   "execution_count": 57,
   "metadata": {},
   "outputs": [],
   "source": [
    "df2['predicted'] = pd.Series(predicted_train_tfidf)"
   ]
  },
  {
   "cell_type": "code",
   "execution_count": 58,
   "metadata": {},
   "outputs": [
    {
     "data": {
      "text/html": [
       "<div>\n",
       "<style scoped>\n",
       "    .dataframe tbody tr th:only-of-type {\n",
       "        vertical-align: middle;\n",
       "    }\n",
       "\n",
       "    .dataframe tbody tr th {\n",
       "        vertical-align: top;\n",
       "    }\n",
       "\n",
       "    .dataframe thead th {\n",
       "        text-align: right;\n",
       "    }\n",
       "</style>\n",
       "<table border=\"1\" class=\"dataframe\">\n",
       "  <thead>\n",
       "    <tr style=\"text-align: right;\">\n",
       "      <th></th>\n",
       "      <th>clean_descr</th>\n",
       "      <th>proffesional_roles</th>\n",
       "      <th>predicted</th>\n",
       "    </tr>\n",
       "  </thead>\n",
       "  <tbody>\n",
       "    <tr>\n",
       "      <th>0</th>\n",
       "      <td>ждать анализ дать производственный процесс под...</td>\n",
       "      <td>Аналитик</td>\n",
       "      <td>Бизнес-аналитик</td>\n",
       "    </tr>\n",
       "    <tr>\n",
       "      <th>1</th>\n",
       "      <td>компания айти консалтинг являться аккредитоват...</td>\n",
       "      <td>Аналитик</td>\n",
       "      <td>Бизнес-аналитик</td>\n",
       "    </tr>\n",
       "    <tr>\n",
       "      <th>2</th>\n",
       "      <td>ждать формирование развитие аналитический обес...</td>\n",
       "      <td>Аналитик</td>\n",
       "      <td>Бизнес-аналитик</td>\n",
       "    </tr>\n",
       "    <tr>\n",
       "      <th>3</th>\n",
       "      <td>искать ведущий системный аналитика команда раз...</td>\n",
       "      <td>Аналитик</td>\n",
       "      <td>Системный аналитик</td>\n",
       "    </tr>\n",
       "    <tr>\n",
       "      <th>4</th>\n",
       "      <td>тинькофф это свой экосистема инвестиция путеше...</td>\n",
       "      <td>Аналитик</td>\n",
       "      <td>BI-аналитик, аналитик данных</td>\n",
       "    </tr>\n",
       "    <tr>\n",
       "      <th>...</th>\n",
       "      <td>...</td>\n",
       "      <td>...</td>\n",
       "      <td>...</td>\n",
       "    </tr>\n",
       "    <tr>\n",
       "      <th>11258</th>\n",
       "      <td>компания prof it group заниматься комплексный ...</td>\n",
       "      <td>Аналитик</td>\n",
       "      <td>Бизнес-аналитик</td>\n",
       "    </tr>\n",
       "    <tr>\n",
       "      <th>11259</th>\n",
       "      <td>искать бизнес аналитика junior яндекс данный м...</td>\n",
       "      <td>Аналитик</td>\n",
       "      <td>Бизнес-аналитик</td>\n",
       "    </tr>\n",
       "    <tr>\n",
       "      <th>11260</th>\n",
       "      <td>обязанность разработка управление система расч...</td>\n",
       "      <td>Аналитик</td>\n",
       "      <td>Финансовый аналитик, инвестиционный аналитик</td>\n",
       "    </tr>\n",
       "    <tr>\n",
       "      <th>11261</th>\n",
       "      <td>responsibilities support sales amp marketing t...</td>\n",
       "      <td>Аналитик</td>\n",
       "      <td>Финансовый аналитик, инвестиционный аналитик</td>\n",
       "    </tr>\n",
       "    <tr>\n",
       "      <th>11262</th>\n",
       "      <td>компания север авто существовать рынок год спе...</td>\n",
       "      <td>Аналитик</td>\n",
       "      <td>BI-аналитик, аналитик данных</td>\n",
       "    </tr>\n",
       "  </tbody>\n",
       "</table>\n",
       "<p>11263 rows × 3 columns</p>\n",
       "</div>"
      ],
      "text/plain": [
       "                                             clean_descr proffesional_roles  \\\n",
       "0      ждать анализ дать производственный процесс под...           Аналитик   \n",
       "1      компания айти консалтинг являться аккредитоват...           Аналитик   \n",
       "2      ждать формирование развитие аналитический обес...           Аналитик   \n",
       "3      искать ведущий системный аналитика команда раз...           Аналитик   \n",
       "4      тинькофф это свой экосистема инвестиция путеше...           Аналитик   \n",
       "...                                                  ...                ...   \n",
       "11258  компания prof it group заниматься комплексный ...           Аналитик   \n",
       "11259  искать бизнес аналитика junior яндекс данный м...           Аналитик   \n",
       "11260  обязанность разработка управление система расч...           Аналитик   \n",
       "11261  responsibilities support sales amp marketing t...           Аналитик   \n",
       "11262  компания север авто существовать рынок год спе...           Аналитик   \n",
       "\n",
       "                                          predicted  \n",
       "0                                   Бизнес-аналитик  \n",
       "1                                   Бизнес-аналитик  \n",
       "2                                   Бизнес-аналитик  \n",
       "3                                Системный аналитик  \n",
       "4                      BI-аналитик, аналитик данных  \n",
       "...                                             ...  \n",
       "11258                               Бизнес-аналитик  \n",
       "11259                               Бизнес-аналитик  \n",
       "11260  Финансовый аналитик, инвестиционный аналитик  \n",
       "11261  Финансовый аналитик, инвестиционный аналитик  \n",
       "11262                  BI-аналитик, аналитик данных  \n",
       "\n",
       "[11263 rows x 3 columns]"
      ]
     },
     "execution_count": 58,
     "metadata": {},
     "output_type": "execute_result"
    }
   ],
   "source": [
    "df2"
   ]
  }
 ],
 "metadata": {
  "kernelspec": {
   "display_name": "Python 3",
   "language": "python",
   "name": "python3"
  },
  "language_info": {
   "codemirror_mode": {
    "name": "ipython",
    "version": 3
   },
   "file_extension": ".py",
   "mimetype": "text/x-python",
   "name": "python",
   "nbconvert_exporter": "python",
   "pygments_lexer": "ipython3",
   "version": "3.9.1"
  },
  "orig_nbformat": 4,
  "vscode": {
   "interpreter": {
    "hash": "8f8cf99212f81ad0c4765861267244807ee1c18364846cdce387b28994a977ba"
   }
  }
 },
 "nbformat": 4,
 "nbformat_minor": 2
}
