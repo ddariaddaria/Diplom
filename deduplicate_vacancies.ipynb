{
 "cells": [
  {
   "cell_type": "code",
   "execution_count": 2,
   "metadata": {},
   "outputs": [],
   "source": [
    "import json\n",
    "import pandas as pd\n",
    "from pprint import pprint"
   ]
  },
  {
   "cell_type": "code",
   "execution_count": 3,
   "metadata": {},
   "outputs": [],
   "source": [
    "with open(r'C:\\Users\\Lenovo\\Desktop\\diplom\\hh_data.json', 'r', encoding = 'utf-8') as fp:\n",
    "    hh_data = json.load(fp)"
   ]
  },
  {
   "attachments": {},
   "cell_type": "markdown",
   "metadata": {},
   "source": [
    "for HH"
   ]
  },
  {
   "cell_type": "code",
   "execution_count": 23,
   "metadata": {},
   "outputs": [],
   "source": [
    "df_hh = pd.DataFrame(hh_data)"
   ]
  },
  {
   "cell_type": "code",
   "execution_count": 25,
   "metadata": {},
   "outputs": [],
   "source": [
    "df_hh = df_hh.drop_duplicates(['id'])"
   ]
  },
  {
   "cell_type": "code",
   "execution_count": 27,
   "metadata": {},
   "outputs": [],
   "source": [
    "df_hh = df_hh.drop_duplicates(['area', 'name', 'description'])"
   ]
  },
  {
   "cell_type": "code",
   "execution_count": 30,
   "metadata": {},
   "outputs": [
    {
     "data": {
      "text/plain": [
       "17814"
      ]
     },
     "execution_count": 30,
     "metadata": {},
     "output_type": "execute_result"
    }
   ],
   "source": [
    "len(df_hh)"
   ]
  },
  {
   "cell_type": "code",
   "execution_count": 31,
   "metadata": {},
   "outputs": [],
   "source": [
    "df_hh.to_json('deduplicated.json')"
   ]
  },
  {
   "attachments": {},
   "cell_type": "markdown",
   "metadata": {},
   "source": [
    "Дальше вероятно не понадобиться"
   ]
  },
  {
   "cell_type": "code",
   "execution_count": 17,
   "metadata": {},
   "outputs": [],
   "source": [
    "with open(r'C:\\Users\\Lenovo\\Desktop\\diplom\\habr_data.json', 'r', encoding='utf-8') as fp:\n",
    "        habr_data = json.load(fp)"
   ]
  },
  {
   "cell_type": "code",
   "execution_count": 18,
   "metadata": {},
   "outputs": [],
   "source": [
    "df_habr = pd.DataFrame(habr_data)"
   ]
  },
  {
   "cell_type": "code",
   "execution_count": 19,
   "metadata": {},
   "outputs": [],
   "source": [
    "df_habr = df_habr.drop_duplicates(['id'])"
   ]
  },
  {
   "cell_type": "code",
   "execution_count": 29,
   "metadata": {},
   "outputs": [],
   "source": [
    "df_habr.to_json('deduplicated.json')"
   ]
  },
  {
   "attachments": {},
   "cell_type": "markdown",
   "metadata": {},
   "source": [
    "Удалить Сербию"
   ]
  },
  {
   "cell_type": "code",
   "execution_count": 20,
   "metadata": {},
   "outputs": [],
   "source": [
    "df_habr = df_habr[df_habr['area'] != 'Сербия, Белград']"
   ]
  },
  {
   "attachments": {},
   "cell_type": "markdown",
   "metadata": {},
   "source": [
    "Удалить 'Россия' из area"
   ]
  },
  {
   "cell_type": "code",
   "execution_count": 21,
   "metadata": {},
   "outputs": [],
   "source": [
    "df_habr['area'] = df_habr['area'].str.replace('Россия, ', '')"
   ]
  },
  {
   "cell_type": "code",
   "execution_count": 22,
   "metadata": {},
   "outputs": [
    {
     "data": {
      "text/plain": [
       "431"
      ]
     },
     "execution_count": 22,
     "metadata": {},
     "output_type": "execute_result"
    }
   ],
   "source": [
    "len(df_habr)"
   ]
  },
  {
   "cell_type": "code",
   "execution_count": 37,
   "metadata": {},
   "outputs": [],
   "source": [
    "df_full = pd.concat([df_hh, df_habr], axis = 0, ignore_index = True)"
   ]
  },
  {
   "cell_type": "code",
   "execution_count": 38,
   "metadata": {},
   "outputs": [],
   "source": [
    "df_full = df_full.drop_duplicates(['area', 'name', 'description'])"
   ]
  },
  {
   "cell_type": "code",
   "execution_count": 107,
   "metadata": {},
   "outputs": [],
   "source": [
    "df_full.to_json('deduplicated.json')"
   ]
  },
  {
   "attachments": {},
   "cell_type": "markdown",
   "metadata": {},
   "source": [
    "Cleaning text"
   ]
  },
  {
   "cell_type": "code",
   "execution_count": 128,
   "metadata": {},
   "outputs": [],
   "source": [
    "df_descr = df_full['description']"
   ]
  },
  {
   "cell_type": "code",
   "execution_count": 137,
   "metadata": {},
   "outputs": [
    {
     "name": "stdout",
     "output_type": "stream",
     "text": [
      "WiseAdvice-IT – компания-интегратор, в клиентский портфель которой входят масштабные проекты на базе 1С:ERP, 1С:УХ, 1С:ERP.УХ, 1C:Корпорация, 1С:ЗУП для крупнейших российских компаний из рейтинга «РБК 500». Мы ищем опытного «Аналитика 1С», который хочет делать крутые проекты вместе с признанными экспертами 1С. Более подробная информация о работе у нас: https://team.wiseadvice-it.ru Как вы будете делать мир лучше  Интервьюирование ключевых пользователей заказчика с целью уточнения бизнес-проблем и резервов компании, определение границ автоматизации и способов достижения бизнес-целей; Структурирование полученной информации и проектирование модели бизнес-процессов заказчика, формализация требований к автоматизированной систем; Моделирование учетной системы, выявление функциональных разрывов и подготовка контрольных примеров; Обоснование выбора программного продукта на основании объективного анализа функциональных требований; Формирование проектной документации с применением современных систем управления проектами Atlassian (Jira, Confluence); Разработка проектных решений и функциональная постановка задач разработчикам; Взаимодействие с проектной командой с момента планирования проекта до запуска в промышленную эксплуатацию.  Мы представляем вас так  Опыт работы аналитиком 1С от 3-х лет, умение ставить задачи программистам, навыки создания проектной документации; Владение одним из прикладных решений 1С (1С:ERP, 1С:УХ, 1С:ERP УХ, 1С:ЗУП, 1С:Документооборот);  Круто, если вы...  Знаете одну из предметных областей: ритейл, финансовая отчетность, оперативный учет, МСФО; Имеете опыт работы в компании-франчайзи 1С и действующие сертификаты 1С.  Для нас – это ценности  Мы не ищем людей на 1 проект, нам нужны сотрудники для постоянной работы в штате компании; 3,7 года – средняя продолжительность работы в компании. Создаем правильную среду для профессионального развития и повышаем ценность сотрудников на IT-рынке; 2-ые по посещаемости среди сайтов 1С:Франчайзи, что обеспечивает 100% проектную загрузку специалистов на 2 года вперед; Вы управляете своей карьерой и доходом, благодаря выстроенной системе грейдов; Внедряем российские продукты с применением мировых методик и современных технологий – PMI PMBOK, Agile, системы Atlassian, продукты и сервисы GIT, Oscript, Teamsity, Zabbix и др.; Мы не сторонники бюрократии, ключевые руководители компании открыты к диалогу с каждым сотрудником; Участвуем в крупнейших мероприятиях – INFOSTART, YANDEX.CLOUD, отраслевых выставках, всероссийских конференциях 1С.  Вам у нас понравится  Гарантированный доход, где 80% – это оклад, не зависящий от переменных факторов; Удобный формат работы – в офисе, удаленно или гибридно; Гибкое начало рабочего дня с 8.00 до 10.00; Кофе-поинт, столовая и выделенные зоны отдыха; Просторный офис в 2 мин. от метро; Корпоративы, спортивные мероприятия – футбол, волейбол, пилатес, настольный теннис, Xbox; Релокационный пакет – организуем комфортный переезд в столицу из других регионов. Заботимся о здоровье сотрудников по программе ДМС.Будьте в курсе вакансий последней недели, информация доступна только на карьерном сайте https://team.wiseadvice-it.ru/ \n"
     ]
    }
   ],
   "source": []
  }
 ],
 "metadata": {
  "kernelspec": {
   "display_name": "Python 3",
   "language": "python",
   "name": "python3"
  },
  "language_info": {
   "codemirror_mode": {
    "name": "ipython",
    "version": 3
   },
   "file_extension": ".py",
   "mimetype": "text/x-python",
   "name": "python",
   "nbconvert_exporter": "python",
   "pygments_lexer": "ipython3",
   "version": "3.9.1"
  },
  "orig_nbformat": 4,
  "vscode": {
   "interpreter": {
    "hash": "8f8cf99212f81ad0c4765861267244807ee1c18364846cdce387b28994a977ba"
   }
  }
 },
 "nbformat": 4,
 "nbformat_minor": 2
}
