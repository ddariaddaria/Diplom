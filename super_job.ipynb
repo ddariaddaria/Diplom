{
 "cells": [
  {
   "cell_type": "code",
   "execution_count": 62,
   "metadata": {},
   "outputs": [],
   "source": [
    "import requests\n",
    "from bs4 import BeautifulSoup\n",
    "import random\n",
    "import re\n",
    "import time"
   ]
  },
  {
   "attachments": {},
   "cell_type": "markdown",
   "metadata": {},
   "source": [
    "Функция для получения данных"
   ]
  },
  {
   "cell_type": "code",
   "execution_count": 57,
   "metadata": {},
   "outputs": [],
   "source": [
    "def get_data(url, params = '', headers ='', proxy = '', format = 'text'): \n",
    "        r = requests.get(url, params, headers=headers, proxies=proxy)\n",
    "        #r = requests.get(url)\n",
    "        if format == 'text':\n",
    "                return r.text\n",
    "        else:\n",
    "                return r.json()"
   ]
  },
  {
   "attachments": {},
   "cell_type": "markdown",
   "metadata": {},
   "source": [
    "Функция для выбора случайного юзер-агента"
   ]
  },
  {
   "cell_type": "code",
   "execution_count": 55,
   "metadata": {},
   "outputs": [],
   "source": [
    "def choose_user_agent(user_agents):\n",
    "        user_agent = user_agents[random.randrange(len(user_agents))]\n",
    "        headers = {'user-agent': user_agent}\n",
    "        return headers"
   ]
  },
  {
   "attachments": {},
   "cell_type": "markdown",
   "metadata": {},
   "source": [
    "Чтение данных юзер-агентов"
   ]
  },
  {
   "cell_type": "code",
   "execution_count": 73,
   "metadata": {},
   "outputs": [],
   "source": [
    "with open(r'C:\\Users\\Lenovo\\Desktop\\diplom\\desktop_user_agent.txt', 'r', encoding='utf-8') as fp:\n",
    "    user_agents = [line.strip() for line in fp.read().split('\\n')]"
   ]
  },
  {
   "cell_type": "code",
   "execution_count": 56,
   "metadata": {},
   "outputs": [],
   "source": [
    "url = r'https://russia.superjob.ru/vakansii/analitik.html?profession_only=1'\n",
    "api_url = r'https://api.superjob.ru/2.0/vacancies/'\n",
    "sJob_html = get_data(url = url, format = 'text')"
   ]
  },
  {
   "cell_type": "code",
   "execution_count": 75,
   "metadata": {},
   "outputs": [],
   "source": [
    "soup = BeautifulSoup(sJob_html, 'lxml')\n",
    "blocks = soup.find_all('span', attrs = {'class': '_2KHVB _3l13l _3l6qV _3PTah _3xCPT rygxv _17lam _2Ovds'})\n",
    "vac_info = []\n",
    "for block in blocks:\n",
    "    vac_id = re.search('\\d{7,}', block.find('a')['href'])[0]\n",
    "    one_vac = get_data(api_url+vac_id, headers = choose_user_agent(user_agents), format = 'json')\n",
    "    try:\n",
    "        area = one_vac['town']['title']\n",
    "        description = re.sub(r'\\<[^>]*\\>', '', one_vac['candidat'])\n",
    "        employment = one_vac['type_of_work']['title'],\n",
    "        experience = one_vac['experience']['title'],\n",
    "        id = one_vac['id'],\n",
    "        key_skills = '',\n",
    "        name = one_vac['profession'],\n",
    "        publication_date = one_vac['date_published'],\n",
    "        salary = {'payment_from': one_vac['payment_from'], 'payment_to': one_vac['payment_to']}\n",
    "        schedule = one_vac['type_of_work']['title'],\n",
    "        specializations = one_vac['catalogues'],\n",
    "        proffesional_roles= '',\n",
    "        employer = one_vac['firm_name']\n",
    "    except:\n",
    "        print(one_vac['id'], 'ERRROR')\n",
    "        continue\n",
    "    vac_info.append({\n",
    "            'area': area,\n",
    "            'description': description,\n",
    "            'employment': employment,\n",
    "            'experience': experience,\n",
    "            'id': id,\n",
    "            'key_skills': key_skills,\n",
    "            'name': name,\n",
    "            'publication_date': publication_date,\n",
    "            'salary': salary,\n",
    "            'schedule': schedule,\n",
    "            'specializations': specializations,\n",
    "            'proffesional_roles': proffesional_roles,\n",
    "            'employer': employer,\n",
    "            'source': 'SuperJob.ru'\n",
    "        })\n",
    "    time.sleep(1)\n"
   ]
  },
  {
   "cell_type": "code",
   "execution_count": 81,
   "metadata": {},
   "outputs": [
    {
     "data": {
      "text/plain": [
       "{'area': 'Всеволожск',\n",
       " 'description': 'Мы знаем, что человек имеет массу возможностей и при желании всегда добьется поставленных целей.\\nМы верим, что самосовершенствование откроет человеку новые пути и горизонты в карьере.\\nМы уверенны, что успех придет к тем, кто в него верит.\\nМы убеждены, что сотрудники наша главная ценность, потому что вместе мы развиваем наше общее дело – работаем на благо и здоровье людей.\\nОбязанности:\\nУправление процессами деятельности медицинской организации:\\n• Проектирование и организация процессов деятельности медицинской организации\\n• Управление ресурсами для обеспечения процессов медицинской организации\\n• Менеджмент качества процессов медицинской организации\\nУправление медицинской организацией\\n• Организация медицинской деятельности и обеспечение медицинской помощи в организации\\n• Стратегическое планирование, обеспечение развития организации\\nТрудовые действия\\n• Ведение статистического учета и подготовка статистической информации о деятельности медицинской организации для руководителя медицинской организации или подразделения медицинской организации\\n• Проведение анализа показателей общественного здоровья и здравоохранения\\n• Контроль организации учета, полноты регистрации и достоверности сбора медико-статистической информации\\n• Обеспечение руководства информацией по вопросам медицинской статистики\\n• Оценка внешней среды медицинской организации\\n• Оценка эффективности внедрения новых организационных технологий в деятельность медицинской организации\\n• Формирование планов (программ) деятельности подразделений медицинской организации\\nУмения, знания, навыки:\\n• Рассчитывать показатели, характеризующие деятельность медицинской организации, и показатели здоровья населения\\n• Готовить статистические отчеты медицинской организации\\n• Статистические методы обработки данных, в том числе с использованием информационно-аналитических систем и информационно-телекоммуникационной сети «Интернет»\\n• Расчет, оценка и анализ показателей общественного здоровья и здравоохранения\\n• Составлять прогноз показателей деятельности медицинской организации и медико-демографических показателей на территории обслуживания медицинской организации\\n• Готовить презентационные материалы, информационно-аналитические материалы, справки о деятельности медицинской организации или ее подразделений для предоставления руководителям организации\\n• Взаимодействовать с руководством медицинской организации и другими подразделениями медицинской организации\\n• Приветствуется знания работы в системе МИС, 1С: Предприятие, в системе ОМС\\n• Владение MS office: Excel\\\\Word\\\\Powerpoint\\\\Visio на высоком уровне\\nТребования:\\n• Высшее образование экономическое (экономист)/техническое (системный аналитик)\\n• Либо медицинское с наличием соответствующих сертификатов по профилю бизнес-аналитик.\\nБудет Вашим преимуществом:\\n• Знания SQL, баз данных, основ технического программирования и понимания интерфейсов\\n• Опыт работы бизнес-аналитиком, системным аналитиком\\n• Участие в проектах внедрения в качестве аналитика по регламентированному учёту в 1С:ERP\\nУсловия:\\n• Работа располагается по адресу - г.Всеволожск, Колтушское шоссе дом 20\\n• Уровень з/п оговаривается на собеседовании',\n",
       " 'employment': ('Полный рабочий день',),\n",
       " 'experience': ('От 1 года',),\n",
       " 'id': (45542070,),\n",
       " 'key_skills': ('',),\n",
       " 'name': ('Аналитик-экономист / Аналитик данных в медицине / Специалист по анализу данных',),\n",
       " 'publication_date': (1674134476,),\n",
       " 'salary': {'payment_from': 0, 'payment_to': 0},\n",
       " 'schedule': ('Полный рабочий день',),\n",
       " 'specializations': ([{'id': 11,\n",
       "    'title': 'Бухгалтерия, финансы, аудит',\n",
       "    'key': 11,\n",
       "    'positions': [{'id': 30, 'title': 'Экономический анализ', 'key': 30}]},\n",
       "   {'id': 33,\n",
       "    'title': 'IT, Интернет, связь, телеком',\n",
       "    'key': 33,\n",
       "    'positions': [{'id': 38, 'title': 'Аналитика', 'key': 38}]},\n",
       "   {'id': 136,\n",
       "    'title': 'Медицина, фармацевтика, ветеринария',\n",
       "    'key': 136,\n",
       "    'positions': [{'id': 137,\n",
       "      'title': 'Больницы, поликлиники, диагностические центры, лаборатории',\n",
       "      'key': 137}]},\n",
       "   {'id': 234,\n",
       "    'title': 'Маркетинг, реклама, PR',\n",
       "    'key': 234,\n",
       "    'positions': [{'id': 239,\n",
       "      'title': 'Аналитика, исследование рынков',\n",
       "      'key': 239}]},\n",
       "   {'id': 381,\n",
       "    'title': 'Банки, инвестиции, лизинг',\n",
       "    'key': 381,\n",
       "    'positions': [{'id': 406,\n",
       "      'title': 'Финансовый анализ и контроль',\n",
       "      'key': 406}]}],),\n",
       " 'proffesional_roles': ('',),\n",
       " 'employer': 'Всеволожская КМБ',\n",
       " 'source': 'SuperJob.ru'}"
      ]
     },
     "execution_count": 81,
     "metadata": {},
     "output_type": "execute_result"
    }
   ],
   "source": [
    "vac_info[0]"
   ]
  },
  {
   "cell_type": "code",
   "execution_count": 49,
   "metadata": {},
   "outputs": [
    {
     "data": {
      "text/plain": [
       "'45515889'"
      ]
     },
     "execution_count": 49,
     "metadata": {},
     "output_type": "execute_result"
    }
   ],
   "source": []
  }
 ],
 "metadata": {
  "kernelspec": {
   "display_name": "Python 3",
   "language": "python",
   "name": "python3"
  },
  "language_info": {
   "codemirror_mode": {
    "name": "ipython",
    "version": 3
   },
   "file_extension": ".py",
   "mimetype": "text/x-python",
   "name": "python",
   "nbconvert_exporter": "python",
   "pygments_lexer": "ipython3",
   "version": "3.9.1"
  },
  "orig_nbformat": 4,
  "vscode": {
   "interpreter": {
    "hash": "8f8cf99212f81ad0c4765861267244807ee1c18364846cdce387b28994a977ba"
   }
  }
 },
 "nbformat": 4,
 "nbformat_minor": 2
}
